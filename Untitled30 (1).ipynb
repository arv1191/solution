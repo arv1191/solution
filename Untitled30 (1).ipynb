{
 "cells": [
  {
   "cell_type": "code",
   "execution_count": 1,
   "id": "1acaeb9d",
   "metadata": {},
   "outputs": [
    {
     "name": "stdout",
     "output_type": "stream",
     "text": [
      "The original dictionary 1 is : {'Mercury': 100, 'Venus': 200, 'Earth': 300}\n",
      "The original dictionary 2 is : {'Star': 500, 'Moon': 600, 'Sun': 700}\n",
      "Mapped dictionary : {'Mercury': 500, 'Venus': 600, 'Earth': 700}\n"
     ]
    }
   ],
   "source": [
    "# initializing data:\n",
    "test_dict1 = {'Mercury': 100, 'Venus': 200, 'Earth': 300}\n",
    "test_dict2 = {'Star': 500, 'Moon': 600, 'Sun': 700}\n",
    "  \n",
    "# print original dictionaries:\n",
    "print(\"The original dictionary 1 is : \" + str(test_dict1))\n",
    "print(\"The original dictionary 2 is : \" + str(test_dict2))\n",
    "  \n",
    "# extracting keys and values\n",
    "keys1 = list(test_dict1.keys())\n",
    "vals2 = list(test_dict2.values())\n",
    "  \n",
    "# assigning new value\n",
    "res = dict()\n",
    "for idx in range(len(keys1)):\n",
    "    res[keys1[idx]] = vals2[idx]\n",
    "      \n",
    "# print result \n",
    "print(\"Mapped dictionary : \" + str(res)) "
   ]
  },
  {
   "cell_type": "code",
   "execution_count": 2,
   "id": "2c32171f",
   "metadata": {},
   "outputs": [
    {
     "name": "stdout",
     "output_type": "stream",
     "text": [
      "Physics\n"
     ]
    }
   ],
   "source": [
    "sub = {  'Chemistry': 81,\n",
    "  'Physics': 98,\n",
    "\n",
    "  'Maths': 78}\n",
    " \n",
    "Keymax = max(zip(sub.values(), sub.keys()))[1]\n",
    "print(Keymax)"
   ]
  },
  {
   "cell_type": "code",
   "execution_count": 14,
   "id": "80302325",
   "metadata": {},
   "outputs": [
    {
     "name": "stdout",
     "output_type": "stream",
     "text": [
      "-2 -83 Original numbers in the list:  [15, -2, 7, 55, 76, -83]\n",
      "Positive numbers in the said list:  [15, -2, 7, 55, 76, -83]\n"
     ]
    }
   ],
   "source": [
    "import math\n",
    "# list of numbers\n",
    "list1 = [15, -2, 7, 55, 76, -83]\n",
    " \n",
    "# iterating each number in list\n",
    "for num in list1:\n",
    " \n",
    "    # checking condition\n",
    "    if num < 0:\n",
    "     print(num, end=\" \")\n",
    " \n",
    "print(\"Original numbers in the list: \",list1)\n",
    "new_nums = list(filter(lambda x: x >0, list1))\n",
    "print(\"Positive numbers in the said list: \",list1)"
   ]
  },
  {
   "cell_type": "code",
   "execution_count": 17,
   "id": "c1324da6",
   "metadata": {},
   "outputs": [
    {
     "name": "stdout",
     "output_type": "stream",
     "text": [
      "Book information after discount:\n",
      "Book Name : 2 states \n",
      "Author Name : chetan bhagat\n",
      "Original Price:rs 120\n",
      "Discount Price: rs102.0\n",
      "\n"
     ]
    }
   ],
   "source": [
    "# Define the class\n",
    "class Book:\n",
    "    # Define and initialize class variables\n",
    "    book_name = \"2 states\"\n",
    "    author_name = \"chetan bhagat\"\n",
    "    price = 120\n",
    "\n",
    "    # Define class method to display book details with discount price\n",
    "    def book_discount_price(self):\n",
    "        # Calculate the discount price after 15% discount\n",
    "        d_price = self.price - self.price * 0.15\n",
    "        # Print book details\n",
    "        print(\"Book Name : {} \\nAuthor Name : {}\\nOriginal Price:rs {}\\nDiscount Price: rs{}\\n\"\n",
    "              .format(self.book_name, self.author_name, self.price, d_price))\n",
    "\n",
    "# Create an object of the class\n",
    "objBook = Book()\n",
    "print(\"Book information after discount:\")\n",
    "# Call the class method\n",
    "objBook.book_discount_price()"
   ]
  },
  {
   "cell_type": "code",
   "execution_count": 18,
   "id": "d5327a17",
   "metadata": {},
   "outputs": [],
   "source": [
    "def display1():\n",
    "    count = 0\n",
    "    file = open(\"INDIA.TXT\",\"r\")\n",
    "    for LINE in file:\n",
    "        Words = LINE.split()\n",
    "        for W in Words:\n",
    "            if W == \"India\":\n",
    "                count = count + 1\n",
    "    print (count)\n",
    "    file.close()"
   ]
  },
  {
   "cell_type": "code",
   "execution_count": 19,
   "id": "3a75a6b4",
   "metadata": {},
   "outputs": [
    {
     "name": "stdout",
     "output_type": "stream",
     "text": [
      "Enter the principal amount : 500\n",
      "Enter the number of years : 2\n",
      "Enter the rate of interest : 10\n",
      "Simple interest : 100.0\n"
     ]
    }
   ],
   "source": [
    "P = float(input(\"Enter the principal amount : \"))\n",
    "\n",
    "N = float(input(\"Enter the number of years : \"))\n",
    "\n",
    "R = float(input(\"Enter the rate of interest : \"))\n",
    "\n",
    "#calculate simple interest by using this formula\n",
    "SI = (P * N * R)/100\n",
    "\n",
    "#print\n",
    "print(\"Simple interest : {}\".format(SI))"
   ]
  },
  {
   "cell_type": "code",
   "execution_count": 24,
   "id": "568d5aa5",
   "metadata": {},
   "outputs": [
    {
     "name": "stdout",
     "output_type": "stream",
     "text": [
      "Enter the radius of a container: 5\n",
      "Enter the height of a container: 10\n",
      " Volume of a container:  785.0\n"
     ]
    }
   ],
   "source": [
    "\n",
    "pi = 3.14\n",
    "radius = int(input('Enter the radius of a container: '))\n",
    "height = int(input('Enter the height of a container: '))\n",
    "#Formula for Volume of Container\n",
    "volume = pi * radius * radius * height\n",
    "print(\" Volume of a container: \" ,volume)"
   ]
  },
  {
   "cell_type": "code",
   "execution_count": 27,
   "id": "1b42c23c",
   "metadata": {},
   "outputs": [
    {
     "name": "stdout",
     "output_type": "stream",
     "text": [
      "Enter your value: MY NAME IS ABHISHEK KUMAR\n",
      "MY NAME IS ABHISHEK KUMAR\n"
     ]
    }
   ],
   "source": [
    "\n",
    "val = input(\"Enter your value: \")\n",
    "print(val)\n"
   ]
  },
  {
   "cell_type": "code",
   "execution_count": 46,
   "id": "982a7de9",
   "metadata": {},
   "outputs": [
    {
     "name": "stdout",
     "output_type": "stream",
     "text": [
      "Enter your value: abhishek123\n",
      "abhishek123\n",
      "The original string : abhishek123\n",
      "The numbers list is : []\n"
     ]
    }
   ],
   "source": [
    "# initializing string \n",
    "import re\n",
    "test_string = input(\"Enter your value: \")\n",
    "print(test_string)\n",
    "\n",
    "\n",
    "  \n",
    "# printing original string \n",
    "print(\"The original string : \" + test_string)\n",
    "  \n",
    "# using List comprehension + isdigit() +split()\n",
    "# getting numbers from string \n",
    "res = [int(i) for i in test_string.split() if i.isdigit()]\n",
    "  \n",
    "# print result\n",
    "print(\"The numbers list is : \" + str(res))"
   ]
  },
  {
   "cell_type": "code",
   "execution_count": null,
   "id": "8f30b96e",
   "metadata": {},
   "outputs": [],
   "source": []
  },
  {
   "cell_type": "code",
   "execution_count": 48,
   "id": "4f160bbe",
   "metadata": {},
   "outputs": [
    {
     "name": "stdout",
     "output_type": "stream",
     "text": [
      "The original string : There are 2 apples for 4 persons\n",
      "The numbers list is : [2, 4]\n"
     ]
    },
    {
     "ename": "NameError",
     "evalue": "name 'total' is not defined",
     "output_type": "error",
     "traceback": [
      "\u001b[1;31m---------------------------------------------------------------------------\u001b[0m",
      "\u001b[1;31mNameError\u001b[0m                                 Traceback (most recent call last)",
      "Input \u001b[1;32mIn [48]\u001b[0m, in \u001b[0;36m<cell line: 15>\u001b[1;34m()\u001b[0m\n\u001b[0;32m     13\u001b[0m \u001b[38;5;66;03m# Iterate each element in list\u001b[39;00m\n\u001b[0;32m     14\u001b[0m \u001b[38;5;66;03m# and add them in variable total\u001b[39;00m\n\u001b[0;32m     15\u001b[0m \u001b[38;5;28;01mfor\u001b[39;00m ele \u001b[38;5;129;01min\u001b[39;00m \u001b[38;5;28mrange\u001b[39m(\u001b[38;5;241m0\u001b[39m, \u001b[38;5;28mlen\u001b[39m(res)):\n\u001b[1;32m---> 16\u001b[0m     total \u001b[38;5;241m=\u001b[39m \u001b[43mtotal\u001b[49m \u001b[38;5;241m+\u001b[39m list1[res]\n\u001b[0;32m     18\u001b[0m \u001b[38;5;66;03m# printing total value\u001b[39;00m\n\u001b[0;32m     19\u001b[0m \u001b[38;5;28mprint\u001b[39m(\u001b[38;5;124m\"\u001b[39m\u001b[38;5;124mSum of all elements in given list: \u001b[39m\u001b[38;5;124m\"\u001b[39m, total)\n",
      "\u001b[1;31mNameError\u001b[0m: name 'total' is not defined"
     ]
    }
   ],
   "source": [
    "# initializing string \n",
    "test_string = \"There are 2 apples for 4 persons\"\n",
    "  \n",
    "# printing original string \n",
    "print(\"The original string : \" + test_string)\n",
    "  \n",
    "# using List comprehension + isdigit() +split()\n",
    "# getting numbers from string \n",
    "res = [int(i) for i in test_string.split() if i.isdigit()]\n",
    "  \n",
    "# print result\n",
    "print(\"The numbers list is : \" + str(res))\n",
    "# Iterate each element in list\n",
    "# and add them in variable total\n",
    "for ele in range(0, len(res)):\n",
    "    total = total + list1[res]\n",
    " \n",
    "# printing total value\n",
    "print(\"Sum of all elements in given list: \", total)"
   ]
  },
  {
   "cell_type": "code",
   "execution_count": 50,
   "id": "f9112432",
   "metadata": {},
   "outputs": [
    {
     "name": "stdout",
     "output_type": "stream",
     "text": [
      "Enter a string = abhishek\n",
      "abhishek has no digit\n"
     ]
    }
   ],
   "source": [
    "a = input(\"Enter a string = \")\n",
    "sum = 0\n",
    "digit = \"\"\n",
    "\n",
    "for i in a :\n",
    "    if i.isdigit() :\n",
    "        sum += int(i)\n",
    "        digit += i\n",
    "        \n",
    "if sum == 0 and len(digit) == 0:\n",
    "    print(a, \"has no digit\")\n",
    "else :\n",
    "    print(\"Original string = \", a)\n",
    "    print(\"Digits are \", digit)\n",
    "    print(\"Sum of all digit = \", sum)"
   ]
  },
  {
   "cell_type": "code",
   "execution_count": null,
   "id": "205d8686",
   "metadata": {},
   "outputs": [],
   "source": []
  },
  {
   "cell_type": "code",
   "execution_count": null,
   "id": "1efcca67",
   "metadata": {},
   "outputs": [],
   "source": []
  }
 ],
 "metadata": {
  "kernelspec": {
   "display_name": "Python 3 (ipykernel)",
   "language": "python",
   "name": "python3"
  },
  "language_info": {
   "codemirror_mode": {
    "name": "ipython",
    "version": 3
   },
   "file_extension": ".py",
   "mimetype": "text/x-python",
   "name": "python",
   "nbconvert_exporter": "python",
   "pygments_lexer": "ipython3",
   "version": "3.9.12"
  }
 },
 "nbformat": 4,
 "nbformat_minor": 5
}
